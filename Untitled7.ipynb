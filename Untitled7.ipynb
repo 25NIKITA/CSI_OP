{
  "nbformat": 4,
  "nbformat_minor": 0,
  "metadata": {
    "colab": {
      "provenance": [],
      "authorship_tag": "ABX9TyMo89H9ZyVZTN9y6Ghuttm4",
      "include_colab_link": true
    },
    "kernelspec": {
      "name": "python3",
      "display_name": "Python 3"
    },
    "language_info": {
      "name": "python"
    }
  },
  "cells": [
    {
      "cell_type": "markdown",
      "metadata": {
        "id": "view-in-github",
        "colab_type": "text"
      },
      "source": [
        "<a href=\"https://colab.research.google.com/github/25NIKITA/CSI_OP/blob/main/Untitled7.ipynb\" target=\"_parent\"><img src=\"https://colab.research.google.com/assets/colab-badge.svg\" alt=\"Open In Colab\"/></a>"
      ]
    },
    {
      "cell_type": "markdown",
      "source": [
        "**Hand Written digital prediction-Classification Analysis**"
      ],
      "metadata": {
        "id": "tAlrxRqRfgHO"
      }
    },
    {
      "cell_type": "markdown",
      "source": [
        "the digital datasheet consists of 8x8 pixel images of digits.the images attribute of the dataset stores 8x8 arrays of gray scale values for each image.We will ue this array to visualise first four images.The target attribute of the dataset stores the digit each image represents."
      ],
      "metadata": {
        "id": "Ad89g4IGgDw1"
      }
    },
    {
      "cell_type": "markdown",
      "source": [
        "**Import** **Library**"
      ],
      "metadata": {
        "id": "z6iaQxPRi9xD"
      }
    },
    {
      "cell_type": "code",
      "source": [
        "import pandas as pd\n",
        "import numpy as np\n",
        "import matplotlib.pyplot as plt\n"
      ],
      "metadata": {
        "id": "u9_SLwFGjB_N"
      },
      "execution_count": 2,
      "outputs": []
    },
    {
      "cell_type": "markdown",
      "source": [
        "**Import** **Data**"
      ],
      "metadata": {
        "id": "-U86eGF5jMGz"
      }
    },
    {
      "cell_type": "code",
      "source": [
        "from sklearn.datasets import load_digits"
      ],
      "metadata": {
        "id": "d3-3kOePjQFD"
      },
      "execution_count": 3,
      "outputs": []
    },
    {
      "cell_type": "code",
      "source": [
        "df=load_digits()"
      ],
      "metadata": {
        "id": "bup3au34oMvI"
      },
      "execution_count": 4,
      "outputs": []
    },
    {
      "cell_type": "code",
      "source": [
        "_, axes=plt.subplots(nrows=1,ncols=4, figsize=(10,3))\n",
        "for ax,image,label in zip(axes,df.images,df.target):\n",
        "  ax.set_axis_off()\n",
        "  ax.imshow(image,cmap=plt.cm.gray_r, interpolation=\"nearest\")\n",
        "  ax.set_title(\"Training: %i\"% label)"
      ],
      "metadata": {
        "colab": {
          "base_uri": "https://localhost:8080/",
          "height": 227
        },
        "id": "B5MaWHvxoR9s",
        "outputId": "3bb0ea2a-f3ed-48d9-8a1f-be47f8562cb2"
      },
      "execution_count": 5,
      "outputs": [
        {
          "output_type": "display_data",
          "data": {
            "text/plain": [
              "<Figure size 1000x300 with 4 Axes>"
            ],
            "image/png": "[encoded data removed]"
          },
          "metadata": {}
        }
      ]
    },
    {
      "cell_type": "markdown",
      "source": [
        "**Data** **Preprocessing**"
      ],
      "metadata": {
        "id": "gj35f29hp1IC"
      }
    },
    {
      "cell_type": "markdown",
      "source": [
        "FLatten Image![Flag-Mauritius.webp](data:image/webp;base64,UklGRqgFAABXRUJQVlA4IJwFAAAwggCdASogAxYCPm02mEkkIyKhIugAgA2JZ27hd2ERgQfjd82nAeb/i7+EuZ/Z/3K/5nhIH6Ae//ds36q4PkCqw23xkkzQPOjoHePedHQO8e86Ogd4950dA7x7zo6BAjtX2G3UhSSH/Pkf/nyP/z5H/58j/8+SAD2Laj3ccrXUhSSH/Pkf/nyP/z5H/58oeP5H/58j/8+R/+fI//Pkf/nyP/z5ID67tqPdxytdSFJIf8+R/+fI//Pkf/n1jY93HK11IUkh/z5H/58j/8+R/+fJAB7FtR7uOVrqQpJD/nyP/z5H/58j/8+UPH8j/8+R/+fI//Pkf/nyP/z5H/58kBaNU7/6bcgualHhSjwpR4Uo8KUeFKPClHhSjwpR4Uo8KUeFKPClHhSjwpR4Uo8KUeFKPClHhSjwpR4Uo8KUr9HjIG6qc1TeQN1U5qm8gbqpzVN5A3VTmqbyBuqnNU3+u7aj3ccrXUhSSH/Pkf/nyP/z5H/59Y2PdxytdSFJIf8+R/+fI//Pkf/nyQAexbUe7jla6kKSQ/58j/8+R/+fI//PlDx/I//Pkf/nyP/z5H/58j/8+R/+fJAfXdtR7uOVrqQpJD/nyP/z5H/58j/8+sbHu45WupCkkP+fI//Pkf/nyP/z5IAJdYaDGw6vYdXsOr2HV7Dq9h1ew6vYdXsOr2HV7Dq9h1ew6vYdXsOr2HV7Dq9h1ew6vYdXsOr2HV7Dq9h1e2BPyUFnIZaTD0U5Vp+Sgs5DLSYeinKtPyUFnIZaTD0U5Vp+Sgs43JKPdxytdSFJIf8+R/+fI//Pkf/nyP/z5H/58j/8+R/+fI//Pkf/nyP/z5H/58j/8+R/+fI//Pkf/nyP/z5H/58j/8+R/+fI//Pkf/nyP/z5H/58j/8+R/+fI//Pkf/nyP/z5H/58j/8+R/+fI//Pkf/nyP/z5H/58j/8+R/+fI//Pkf/nyP/z5H/58j/8+R/+fI//Pkf/nyP/z5HtTkUbmS+L5fF8vi+XxfL4vl8Xy+L5fF8vi+XxfL4vl8Xy+L5fF8vi+XxfL4vl8Xy+L5fF8vi+XxfL4vl8Xy+L5fF8vi+XxfL4vl8Xy+L5fF8vi+XxfL4vl8Xy+L5fF8vi+XxfL4vl8Xy+L5fF8vi+XxfL4vl8YazVrqQpJD/nyP/z5H/58j/8+R/+fI//dUbdSFJIf8+R/+fI//Pkf/nyP/z5H151ltR7uOVrqQpJD/nyP/z5H/58j/8+SL6y7aj3ccrXUhSSH/Pkf/nyP/z5H/6GSjj5H/58j/8+R/+fI//Pkf/nyP/z5Q8fyP/z5H/58j/8+R/+fI//Pkf/nyQH13bUe7jla6kKSQ/58j/8+R/+fI//PqFqd9Vx3j3nR0DvHvOjoHePedHQO8e86Ogd4950dA5QAA/v1kYHfbvtPtQN4+WmX65gP469wjgA/CQmtkuEcACphAAAAAAAAAAAAAAAAGX/TnzcplsHqW65SYzXOq3b7cfuW0jzcQuGkt5uIWFYOAC6nmsTT3KmnfVr6tfVr6tfVr6tfVr6tfVr6tfVr6tfVr6tfVr6tfVr6tfVr6tfVr6tfAQAAAAAAAAAAAAAAAA8/0f/W/LpPR+B6HsSaF/Jy0z7/eat4z7/dvkMwMggaBh3TlECBAgQIECBAgQIECBAgQIECBAgQIECBAgQIECBAgQIECBAgQIECBBp90/yQ4g0AAMQEAAAAOEoAJUcAHGCAAAAHkUAFd/uQjqYV+K85F59isxVfBswuPKCTUf54P9Wlxzzeebzzeebzzeebzzeebzzeebzzeebzzeebzzeebzzeebzzeebzzeebzze+fBAwM1nkBh72YCADsVHDroZgcACtpSBwAN0oAKCEAAAALocAIO7rWLLyR/vP95/vP95/vP95/vP95/vP95/vP9xQAAA==)"
      ],
      "metadata": {
        "id": "mA_blv5g3TqC"
      }
    },
    {
      "cell_type": "code",
      "source": [
        "df.images.shape"
      ],
      "metadata": {
        "colab": {
          "base_uri": "https://localhost:8080/"
        },
        "id": "V-T2gur_2iUL",
        "outputId": "ee495680-9c24-4086-c01e-8be864df3907"
      },
      "execution_count": 11,
      "outputs": [
        {
          "output_type": "execute_result",
          "data": {
            "text/plain": [
              "(1797, 8, 8)"
            ]
          },
          "metadata": {},
          "execution_count": 11
        }
      ]
    },
    {
      "cell_type": "code",
      "source": [
        "df.images[0]"
      ],
      "metadata": {
        "colab": {
          "base_uri": "https://localhost:8080/"
        },
        "id": "7Dhsbq4A2o7R",
        "outputId": "3002013f-c9c4-4208-ca7c-8906ba28d847"
      },
      "execution_count": 12,
      "outputs": [
        {
          "output_type": "execute_result",
          "data": {
            "text/plain": [
              "array([[ 0.,  0.,  5., 13.,  9.,  1.,  0.,  0.],\n",
              "       [ 0.,  0., 13., 15., 10., 15.,  5.,  0.],\n",
              "       [ 0.,  3., 15.,  2.,  0., 11.,  8.,  0.],\n",
              "       [ 0.,  4., 12.,  0.,  0.,  8.,  8.,  0.],\n",
              "       [ 0.,  5.,  8.,  0.,  0.,  9.,  8.,  0.],\n",
              "       [ 0.,  4., 11.,  0.,  1., 12.,  7.,  0.],\n",
              "       [ 0.,  2., 14.,  5., 10., 12.,  0.,  0.],\n",
              "       [ 0.,  0.,  6., 13., 10.,  0.,  0.,  0.]])"
            ]
          },
          "metadata": {},
          "execution_count": 12
        }
      ]
    },
    {
      "cell_type": "code",
      "source": [
        "df.images[0].shape"
      ],
      "metadata": {
        "colab": {
          "base_uri": "https://localhost:8080/"
        },
        "id": "VA0WjS9B5GQj",
        "outputId": "ace044a5-8d71-4c83-af46-8fd1e48dd6ce"
      },
      "execution_count": 14,
      "outputs": [
        {
          "output_type": "execute_result",
          "data": {
            "text/plain": [
              "(8, 8)"
            ]
          },
          "metadata": {},
          "execution_count": 14
        }
      ]
    },
    {
      "cell_type": "code",
      "source": [
        "len(df.images)"
      ],
      "metadata": {
        "colab": {
          "base_uri": "https://localhost:8080/"
        },
        "id": "ljceGV-e5Kvx",
        "outputId": "0c079654-22bc-48ef-ab4a-5f073d27a761"
      },
      "execution_count": 15,
      "outputs": [
        {
          "output_type": "execute_result",
          "data": {
            "text/plain": [
              "1797"
            ]
          },
          "metadata": {},
          "execution_count": 15
        }
      ]
    },
    {
      "cell_type": "code",
      "source": [
        "n_samples=len(df.images)\n",
        "data=df.images.reshape((n_samples,-1))"
      ],
      "metadata": {
        "id": "KFcvyBet5NXC"
      },
      "execution_count": 17,
      "outputs": []
    },
    {
      "cell_type": "code",
      "source": [
        "data[0]"
      ],
      "metadata": {
        "colab": {
          "base_uri": "https://localhost:8080/"
        },
        "id": "sB_HGoDd5YCM",
        "outputId": "b06d387c-7254-49c8-f94b-d33e1b329fb4"
      },
      "execution_count": 18,
      "outputs": [
        {
          "output_type": "execute_result",
          "data": {
            "text/plain": [
              "array([ 0.,  0.,  5., 13.,  9.,  1.,  0.,  0.,  0.,  0., 13., 15., 10.,\n",
              "       15.,  5.,  0.,  0.,  3., 15.,  2.,  0., 11.,  8.,  0.,  0.,  4.,\n",
              "       12.,  0.,  0.,  8.,  8.,  0.,  0.,  5.,  8.,  0.,  0.,  9.,  8.,\n",
              "        0.,  0.,  4., 11.,  0.,  1., 12.,  7.,  0.,  0.,  2., 14.,  5.,\n",
              "       10., 12.,  0.,  0.,  0.,  0.,  6., 13., 10.,  0.,  0.,  0.])"
            ]
          },
          "metadata": {},
          "execution_count": 18
        }
      ]
    },
    {
      "cell_type": "code",
      "source": [
        "data[0].shape"
      ],
      "metadata": {
        "colab": {
          "base_uri": "https://localhost:8080/"
        },
        "id": "rVykWixM5Zqo",
        "outputId": "71b3c663-ded1-494d-a563-da8a68bffa72"
      },
      "execution_count": 19,
      "outputs": [
        {
          "output_type": "execute_result",
          "data": {
            "text/plain": [
              "(64,)"
            ]
          },
          "metadata": {},
          "execution_count": 19
        }
      ]
    },
    {
      "cell_type": "code",
      "source": [
        "data.shape"
      ],
      "metadata": {
        "colab": {
          "base_uri": "https://localhost:8080/"
        },
        "id": "rYYrMnGl5g54",
        "outputId": "ce4d5309-133b-4a49-bf47-69a583a1f61b"
      },
      "execution_count": 20,
      "outputs": [
        {
          "output_type": "execute_result",
          "data": {
            "text/plain": [
              "(1797, 64)"
            ]
          },
          "metadata": {},
          "execution_count": 20
        }
      ]
    },
    {
      "cell_type": "markdown",
      "source": [
        "**Scaling Image** **Data**"
      ],
      "metadata": {
        "id": "wrrdan5R5jHZ"
      }
    },
    {
      "cell_type": "code",
      "source": [
        "data.min()"
      ],
      "metadata": {
        "colab": {
          "base_uri": "https://localhost:8080/"
        },
        "id": "VIphZ1Dq5sN2",
        "outputId": "d7db7ae9-53bb-474f-fe00-25794bd625d3"
      },
      "execution_count": 22,
      "outputs": [
        {
          "output_type": "execute_result",
          "data": {
            "text/plain": [
              "0.0"
            ]
          },
          "metadata": {},
          "execution_count": 22
        }
      ]
    },
    {
      "cell_type": "code",
      "source": [
        "data.max()"
      ],
      "metadata": {
        "colab": {
          "base_uri": "https://localhost:8080/"
        },
        "id": "PWId6Rs15t0K",
        "outputId": "605a836e-12e2-4dce-e109-b44dcdaa0a1b"
      },
      "execution_count": 23,
      "outputs": [
        {
          "output_type": "execute_result",
          "data": {
            "text/plain": [
              "16.0"
            ]
          },
          "metadata": {},
          "execution_count": 23
        }
      ]
    },
    {
      "cell_type": "code",
      "source": [
        "data=data/16"
      ],
      "metadata": {
        "id": "XkyZw7C35vvE"
      },
      "execution_count": 24,
      "outputs": []
    },
    {
      "cell_type": "code",
      "source": [
        "data.min()"
      ],
      "metadata": {
        "colab": {
          "base_uri": "https://localhost:8080/"
        },
        "id": "23vP-NIt5zBU",
        "outputId": "9cc0b405-93ff-4482-e9b0-e542bdb0c0a1"
      },
      "execution_count": 25,
      "outputs": [
        {
          "output_type": "execute_result",
          "data": {
            "text/plain": [
              "0.0"
            ]
          },
          "metadata": {},
          "execution_count": 25
        }
      ]
    },
    {
      "cell_type": "code",
      "source": [
        "data.max()"
      ],
      "metadata": {
        "colab": {
          "base_uri": "https://localhost:8080/"
        },
        "id": "qeVj7qLv50gC",
        "outputId": "a4baa05e-9ba1-4355-c5e4-e71ba0cf4993"
      },
      "execution_count": 26,
      "outputs": [
        {
          "output_type": "execute_result",
          "data": {
            "text/plain": [
              "1.0"
            ]
          },
          "metadata": {},
          "execution_count": 26
        }
      ]
    },
    {
      "cell_type": "code",
      "source": [
        "data[0]"
      ],
      "metadata": {
        "colab": {
          "base_uri": "https://localhost:8080/"
        },
        "id": "CoEaxt-M52XB",
        "outputId": "b09e8fb1-a518-437d-9433-f849e352c0f8"
      },
      "execution_count": 27,
      "outputs": [
        {
          "output_type": "execute_result",
          "data": {
            "text/plain": [
              "array([0.    , 0.    , 0.3125, 0.8125, 0.5625, 0.0625, 0.    , 0.    ,\n",
              "       0.    , 0.    , 0.8125, 0.9375, 0.625 , 0.9375, 0.3125, 0.    ,\n",
              "       0.    , 0.1875, 0.9375, 0.125 , 0.    , 0.6875, 0.5   , 0.    ,\n",
              "       0.    , 0.25  , 0.75  , 0.    , 0.    , 0.5   , 0.5   , 0.    ,\n",
              "       0.    , 0.3125, 0.5   , 0.    , 0.    , 0.5625, 0.5   , 0.    ,\n",
              "       0.    , 0.25  , 0.6875, 0.    , 0.0625, 0.75  , 0.4375, 0.    ,\n",
              "       0.    , 0.125 , 0.875 , 0.3125, 0.625 , 0.75  , 0.    , 0.    ,\n",
              "       0.    , 0.    , 0.375 , 0.8125, 0.625 , 0.    , 0.    , 0.    ])"
            ]
          },
          "metadata": {},
          "execution_count": 27
        }
      ]
    },
    {
      "cell_type": "markdown",
      "source": [
        "**Train Test Split Data**"
      ],
      "metadata": {
        "id": "JLUF6LTg57bR"
      }
    },
    {
      "cell_type": "code",
      "source": [
        "from sklearn.model_selection import train_test_split"
      ],
      "metadata": {
        "id": "SoyowNUs5_Sl"
      },
      "execution_count": 28,
      "outputs": []
    },
    {
      "cell_type": "code",
      "source": [
        "X_train,X_test,y_train,y_test= train_test_split(data,df.target,test_size=0.3)"
      ],
      "metadata": {
        "id": "8x2h_dBj6Ga7"
      },
      "execution_count": 29,
      "outputs": []
    },
    {
      "cell_type": "code",
      "source": [
        "X_train.shape,X_test.shape,y_train.shape,y_test.shape"
      ],
      "metadata": {
        "colab": {
          "base_uri": "https://localhost:8080/"
        },
        "id": "XpRGwPAM6TB6",
        "outputId": "d477f32a-b5ea-4312-a2fa-0f136456a1dc"
      },
      "execution_count": 30,
      "outputs": [
        {
          "output_type": "execute_result",
          "data": {
            "text/plain": [
              "((1257, 64), (540, 64), (1257,), (540,))"
            ]
          },
          "metadata": {},
          "execution_count": 30
        }
      ]
    },
    {
      "cell_type": "markdown",
      "source": [
        "### **Random Forest** **Model**"
      ],
      "metadata": {
        "id": "mOiWG1U06b71"
      }
    },
    {
      "cell_type": "code",
      "source": [
        "from sklearn.ensemble import RandomForestClassifier"
      ],
      "metadata": {
        "id": "xS104IDW6mfh"
      },
      "execution_count": 31,
      "outputs": []
    },
    {
      "cell_type": "code",
      "source": [
        "rf=RandomForestClassifier()"
      ],
      "metadata": {
        "id": "w1igIlxL66Hz"
      },
      "execution_count": 32,
      "outputs": []
    },
    {
      "cell_type": "code",
      "source": [
        "rf.fit(X_train,y_train)"
      ],
      "metadata": {
        "colab": {
          "base_uri": "https://localhost:8080/",
          "height": 75
        },
        "id": "7Ge-pg9M69xD",
        "outputId": "259f732a-ec09-4146-fe49-36793b03a51a"
      },
      "execution_count": 34,
      "outputs": [
        {
          "output_type": "execute_result",
          "data": {
            "text/plain": [
              "RandomForestClassifier()"
            ],
            "text/html": [
              "<style>#sk-container-id-2 {color: black;background-color: white;}#sk-container-id-2 pre{padding: 0;}#sk-container-id-2 div.sk-toggleable {background-color: white;}#sk-container-id-2 label.sk-toggleable__label {cursor: pointer;display: block;width: 100%;margin-bottom: 0;padding: 0.3em;box-sizing: border-box;text-align: center;}#sk-container-id-2 label.sk-toggleable__label-arrow:before {content: \"▸\";float: left;margin-right: 0.25em;color: #696969;}#sk-container-id-2 label.sk-toggleable__label-arrow:hover:before {color: black;}#sk-container-id-2 div.sk-estimator:hover label.sk-toggleable__label-arrow:before {color: black;}#sk-container-id-2 div.sk-toggleable__content {max-height: 0;max-width: 0;overflow: hidden;text-align: left;background-color: #f0f8ff;}#sk-container-id-2 div.sk-toggleable__content pre {margin: 0.2em;color: black;border-radius: 0.25em;background-color: #f0f8ff;}#sk-container-id-2 input.sk-toggleable__control:checked~div.sk-toggleable__content {max-height: 200px;max-width: 100%;overflow: auto;}#sk-container-id-2 input.sk-toggleable__control:checked~label.sk-toggleable__label-arrow:before {content: \"▾\";}#sk-container-id-2 div.sk-estimator input.sk-toggleable__control:checked~label.sk-toggleable__label {background-color: #d4ebff;}#sk-container-id-2 div.sk-label input.sk-toggleable__control:checked~label.sk-toggleable__label {background-color: #d4ebff;}#sk-container-id-2 input.sk-hidden--visually {border: 0;clip: rect(1px 1px 1px 1px);clip: rect(1px, 1px, 1px, 1px);height: 1px;margin: -1px;overflow: hidden;padding: 0;position: absolute;width: 1px;}#sk-container-id-2 div.sk-estimator {font-family: monospace;background-color: #f0f8ff;border: 1px dotted black;border-radius: 0.25em;box-sizing: border-box;margin-bottom: 0.5em;}#sk-container-id-2 div.sk-estimator:hover {background-color: #d4ebff;}#sk-container-id-2 div.sk-parallel-item::after {content: \"\";width: 100%;border-bottom: 1px solid gray;flex-grow: 1;}#sk-container-id-2 div.sk-label:hover label.sk-toggleable__label {background-color: #d4ebff;}#sk-container-id-2 div.sk-serial::before {content: \"\";position: absolute;border-left: 1px solid gray;box-sizing: border-box;top: 0;bottom: 0;left: 50%;z-index: 0;}#sk-container-id-2 div.sk-serial {display: flex;flex-direction: column;align-items: center;background-color: white;padding-right: 0.2em;padding-left: 0.2em;position: relative;}#sk-container-id-2 div.sk-item {position: relative;z-index: 1;}#sk-container-id-2 div.sk-parallel {display: flex;align-items: stretch;justify-content: center;background-color: white;position: relative;}#sk-container-id-2 div.sk-item::before, #sk-container-id-2 div.sk-parallel-item::before {content: \"\";position: absolute;border-left: 1px solid gray;box-sizing: border-box;top: 0;bottom: 0;left: 50%;z-index: -1;}#sk-container-id-2 div.sk-parallel-item {display: flex;flex-direction: column;z-index: 1;position: relative;background-color: white;}#sk-container-id-2 div.sk-parallel-item:first-child::after {align-self: flex-end;width: 50%;}#sk-container-id-2 div.sk-parallel-item:last-child::after {align-self: flex-start;width: 50%;}#sk-container-id-2 div.sk-parallel-item:only-child::after {width: 0;}#sk-container-id-2 div.sk-dashed-wrapped {border: 1px dashed gray;margin: 0 0.4em 0.5em 0.4em;box-sizing: border-box;padding-bottom: 0.4em;background-color: white;}#sk-container-id-2 div.sk-label label {font-family: monospace;font-weight: bold;display: inline-block;line-height: 1.2em;}#sk-container-id-2 div.sk-label-container {text-align: center;}#sk-container-id-2 div.sk-container {/* jupyter's `normalize.less` sets `[hidden] { display: none; }` but bootstrap.min.css set `[hidden] { display: none !important; }` so we also need the `!important` here to be able to override the default hidden behavior on the sphinx rendered scikit-learn.org. See: https://github.com/scikit-learn/scikit-learn/issues/21755 */display: inline-block !important;position: relative;}#sk-container-id-2 div.sk-text-repr-fallback {display: none;}</style><div id=\"sk-container-id-2\" class=\"sk-top-container\"><div class=\"sk-text-repr-fallback\"><pre>RandomForestClassifier()</pre><b>In a Jupyter environment, please rerun this cell to show the HTML representation or trust the notebook. <br />On GitHub, the HTML representation is unable to render, please try loading this page with nbviewer.org.</b></div><div class=\"sk-container\" hidden><div class=\"sk-item\"><div class=\"sk-estimator sk-toggleable\"><input class=\"sk-toggleable__control sk-hidden--visually\" id=\"sk-estimator-id-2\" type=\"checkbox\" checked><label for=\"sk-estimator-id-2\" class=\"sk-toggleable__label sk-toggleable__label-arrow\">RandomForestClassifier</label><div class=\"sk-toggleable__content\"><pre>RandomForestClassifier()</pre></div></div></div></div></div>"
            ]
          },
          "metadata": {},
          "execution_count": 34
        }
      ]
    },
    {
      "cell_type": "markdown",
      "source": [
        "### **Predict Tes**t **Data**"
      ],
      "metadata": {
        "id": "S8lf76dc7FvK"
      }
    },
    {
      "cell_type": "code",
      "source": [
        "y_pred=rf.predict(X_test)"
      ],
      "metadata": {
        "id": "G-I2PpeW7Kvs"
      },
      "execution_count": 35,
      "outputs": []
    },
    {
      "cell_type": "code",
      "source": [
        "y_pred"
      ],
      "metadata": {
        "colab": {
          "base_uri": "https://localhost:8080/"
        },
        "id": "sse87zz-7Sxb",
        "outputId": "cfd17835-57af-4826-add7-b21d1a5f937a"
      },
      "execution_count": 36,
      "outputs": [
        {
          "output_type": "execute_result",
          "data": {
            "text/plain": [
              "array([9, 6, 7, 0, 1, 3, 5, 7, 8, 9, 8, 8, 7, 7, 0, 9, 0, 0, 9, 4, 1, 5,\n",
              "       6, 1, 4, 0, 8, 6, 3, 3, 8, 7, 6, 0, 7, 6, 5, 8, 0, 1, 9, 6, 4, 4,\n",
              "       5, 0, 8, 6, 2, 9, 5, 9, 4, 4, 5, 1, 3, 2, 5, 1, 6, 3, 6, 3, 5, 8,\n",
              "       9, 8, 0, 2, 1, 5, 3, 0, 8, 5, 8, 7, 1, 0, 3, 2, 7, 4, 9, 1, 3, 9,\n",
              "       6, 7, 7, 5, 1, 4, 5, 4, 9, 4, 8, 3, 4, 4, 8, 7, 7, 5, 5, 0, 2, 2,\n",
              "       4, 2, 9, 2, 2, 2, 6, 6, 0, 1, 8, 8, 7, 0, 8, 4, 6, 2, 1, 4, 1, 7,\n",
              "       6, 4, 3, 6, 9, 3, 0, 8, 6, 3, 5, 4, 5, 0, 6, 5, 4, 9, 1, 7, 5, 7,\n",
              "       3, 0, 6, 8, 4, 8, 9, 4, 5, 6, 4, 9, 4, 1, 0, 4, 6, 7, 0, 1, 6, 5,\n",
              "       4, 0, 2, 5, 9, 6, 5, 2, 9, 6, 8, 2, 2, 5, 7, 9, 8, 6, 6, 2, 1, 0,\n",
              "       6, 3, 1, 5, 9, 6, 9, 6, 8, 5, 4, 1, 0, 0, 1, 0, 9, 0, 0, 7, 2, 9,\n",
              "       8, 1, 9, 1, 5, 1, 2, 6, 0, 1, 3, 4, 2, 4, 3, 0, 6, 4, 1, 5, 7, 0,\n",
              "       7, 4, 3, 4, 7, 6, 8, 9, 4, 2, 1, 7, 9, 4, 8, 3, 1, 7, 1, 3, 2, 6,\n",
              "       9, 6, 8, 5, 8, 2, 9, 4, 0, 9, 0, 2, 2, 7, 3, 5, 3, 8, 1, 1, 7, 4,\n",
              "       7, 6, 5, 9, 6, 5, 3, 7, 5, 4, 2, 7, 9, 5, 3, 6, 9, 1, 3, 4, 7, 3,\n",
              "       8, 4, 4, 8, 3, 7, 4, 7, 8, 1, 7, 0, 5, 2, 4, 5, 8, 1, 2, 1, 7, 4,\n",
              "       9, 0, 9, 8, 7, 7, 7, 1, 4, 9, 7, 0, 7, 1, 3, 5, 9, 2, 5, 3, 0, 0,\n",
              "       5, 4, 4, 9, 7, 3, 9, 5, 9, 2, 9, 2, 4, 0, 7, 9, 0, 0, 9, 4, 9, 2,\n",
              "       0, 0, 3, 6, 2, 1, 8, 3, 8, 7, 5, 7, 7, 0, 2, 6, 8, 0, 7, 1, 4, 3,\n",
              "       8, 7, 7, 0, 9, 9, 0, 1, 2, 9, 3, 7, 1, 6, 2, 3, 2, 1, 6, 4, 4, 2,\n",
              "       1, 8, 6, 6, 4, 7, 0, 1, 5, 0, 9, 9, 9, 4, 6, 5, 2, 0, 1, 1, 6, 5,\n",
              "       7, 7, 7, 4, 3, 9, 7, 9, 5, 4, 4, 2, 9, 3, 3, 4, 9, 6, 9, 3, 4, 1,\n",
              "       0, 9, 2, 9, 2, 6, 5, 7, 4, 4, 4, 6, 1, 5, 0, 6, 0, 4, 6, 0, 1, 7,\n",
              "       1, 2, 7, 5, 3, 0, 0, 2, 9, 9, 9, 9, 2, 3, 5, 5, 4, 0, 2, 9, 5, 8,\n",
              "       9, 2, 0, 5, 6, 8, 3, 3, 8, 5, 7, 6, 1, 8, 4, 0, 7, 1, 8, 2, 9, 3,\n",
              "       5, 0, 4, 4, 9, 4, 3, 1, 8, 4, 5, 8])"
            ]
          },
          "metadata": {},
          "execution_count": 36
        }
      ]
    },
    {
      "cell_type": "markdown",
      "source": [
        "## **Model** **Accuracy**"
      ],
      "metadata": {
        "id": "gEyW2E5B7U-S"
      }
    },
    {
      "cell_type": "code",
      "source": [
        "from sklearn.metrics import confusion_matrix,classification_report"
      ],
      "metadata": {
        "id": "ZlcX8Jzn7X_8"
      },
      "execution_count": 38,
      "outputs": []
    },
    {
      "cell_type": "code",
      "source": [
        "confusion_matrix(y_test,y_pred)"
      ],
      "metadata": {
        "colab": {
          "base_uri": "https://localhost:8080/"
        },
        "id": "LjME-Tw57jqs",
        "outputId": "55f60e0c-8592-4aaf-e2f0-19becfb66845"
      },
      "execution_count": 39,
      "outputs": [
        {
          "output_type": "execute_result",
          "data": {
            "text/plain": [
              "array([[56,  0,  0,  0,  1,  0,  0,  0,  0,  0],\n",
              "       [ 0, 51,  0,  0,  0,  1,  0,  0,  0,  2],\n",
              "       [ 0,  0, 46,  0,  0,  0,  0,  0,  0,  0],\n",
              "       [ 1,  0,  0, 44,  0,  0,  0,  1,  1,  0],\n",
              "       [ 0,  0,  0,  0, 65,  0,  0,  0,  0,  0],\n",
              "       [ 0,  0,  0,  0,  0, 52,  0,  0,  0,  0],\n",
              "       [ 1,  0,  0,  0,  0,  0, 51,  0,  0,  0],\n",
              "       [ 0,  0,  0,  0,  0,  0,  0, 57,  0,  0],\n",
              "       [ 0,  1,  1,  0,  0,  0,  0,  0, 43,  0],\n",
              "       [ 0,  0,  0,  1,  0,  1,  0,  0,  1, 62]])"
            ]
          },
          "metadata": {},
          "execution_count": 39
        }
      ]
    },
    {
      "cell_type": "code",
      "source": [
        "print(classification_report(y_test,y_pred))"
      ],
      "metadata": {
        "colab": {
          "base_uri": "https://localhost:8080/"
        },
        "id": "40aLsgsO7n0h",
        "outputId": "aa8770a7-84d0-4ce7-f885-4d61f5cab9a3"
      },
      "execution_count": 40,
      "outputs": [
        {
          "output_type": "stream",
          "name": "stdout",
          "text": [
            "              precision    recall  f1-score   support\n",
            "\n",
            "           0       0.97      0.98      0.97        57\n",
            "           1       0.98      0.94      0.96        54\n",
            "           2       0.98      1.00      0.99        46\n",
            "           3       0.98      0.94      0.96        47\n",
            "           4       0.98      1.00      0.99        65\n",
            "           5       0.96      1.00      0.98        52\n",
            "           6       1.00      0.98      0.99        52\n",
            "           7       0.98      1.00      0.99        57\n",
            "           8       0.96      0.96      0.96        45\n",
            "           9       0.97      0.95      0.96        65\n",
            "\n",
            "    accuracy                           0.98       540\n",
            "   macro avg       0.98      0.98      0.98       540\n",
            "weighted avg       0.98      0.98      0.98       540\n",
            "\n"
          ]
        }
      ]
    }
  ]
}